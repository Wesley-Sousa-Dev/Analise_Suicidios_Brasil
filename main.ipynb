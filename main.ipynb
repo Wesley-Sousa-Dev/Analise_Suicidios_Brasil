{
 "cells": [
  {
   "cell_type": "code",
   "execution_count": 7,
   "metadata": {},
   "outputs": [],
   "source": [
    "from Classes.ArquivoInspecao import ArquivoInspecao\n",
    "from Classes.BancoDados import BancoDados"
   ]
  },
  {
   "cell_type": "code",
   "execution_count": null,
   "metadata": {},
   "outputs": [
    {
     "name": "stdout",
     "output_type": "stream",
     "text": [
      "Erro ao inspecionar o arquivo: O arquivo não é um CSV!\n"
     ]
    }
   ],
   "source": [
    "try:\n",
    "    arquivo = ArquivoInspecao(\"Arquivos CSV\\suicidios-total.csv\")\n",
    "    if arquivo.verifica:\n",
    "        print(\"Arquivo CSV inspecionado com sucesso\")\n",
    "    else:\n",
    "        print(\"O arquivo possui dados ausentes ou não possui dados\")\n",
    "except Exception as e:\n",
    "    print(f\"Erro ao inspecionar o arquivo: {e}\")"
   ]
  },
  {
   "cell_type": "code",
   "execution_count": 9,
   "metadata": {},
   "outputs": [
    {
     "name": "stdout",
     "output_type": "stream",
     "text": [
      "Conexão bem-sucedida!\n",
      "Tabelas criadas com sucesso!\n"
     ]
    }
   ],
   "source": [
    "testeDB = BancoDados('postgres', 'postgres', '123456', 'localhost', '5432')\n",
    "testeDB.criacao_tabelas()"
   ]
  }
 ],
 "metadata": {
  "kernelspec": {
   "display_name": "Python 3",
   "language": "python",
   "name": "python3"
  },
  "language_info": {
   "codemirror_mode": {
    "name": "ipython",
    "version": 3
   },
   "file_extension": ".py",
   "mimetype": "text/x-python",
   "name": "python",
   "nbconvert_exporter": "python",
   "pygments_lexer": "ipython3",
   "version": "3.12.5"
  }
 },
 "nbformat": 4,
 "nbformat_minor": 2
}
