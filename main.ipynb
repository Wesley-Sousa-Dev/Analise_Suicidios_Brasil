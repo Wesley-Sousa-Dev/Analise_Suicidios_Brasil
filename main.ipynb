{
 "cells": [
  {
   "cell_type": "code",
   "execution_count": 11,
   "metadata": {},
   "outputs": [],
   "source": [
    "from Classes.Arquivo import Arquivo\n",
    "from Classes.BancoDados import BancoDados"
   ]
  },
  {
   "cell_type": "code",
   "execution_count": 12,
   "metadata": {},
   "outputs": [
    {
     "name": "stdout",
     "output_type": "stream",
     "text": [
      "Arquivo CSV inspecionado com sucesso\n"
     ]
    }
   ],
   "source": [
    "try:\n",
    "    arquivo = Arquivo(\"Arquivos CSV/suicidios-total.csv\")\n",
    "    if arquivo.verifica:\n",
    "        print(\"Arquivo CSV inspecionado com sucesso\")\n",
    "    else:\n",
    "        print(\"O arquivo possui dados ausentes ou não possui dados\")\n",
    "except Exception as e:\n",
    "    print(f\"Erro ao inspecionar o arquivo: {e}\")"
   ]
  },
  {
   "cell_type": "code",
   "execution_count": 14,
   "metadata": {},
   "outputs": [
    {
     "name": "stdout",
     "output_type": "stream",
     "text": [
      "Conexão bem-sucedida!\n"
     ]
    },
    {
     "ename": "DuplicateObject",
     "evalue": "ERRO:  gatilho \"genero_descricao_trigger\" para relação \"genero\" já existe\n",
     "output_type": "error",
     "traceback": [
      "\u001b[1;31m---------------------------------------------------------------------------\u001b[0m",
      "\u001b[1;31mDuplicateObject\u001b[0m                           Traceback (most recent call last)",
      "Cell \u001b[1;32mIn[14], line 2\u001b[0m\n\u001b[0;32m      1\u001b[0m testeDB \u001b[38;5;241m=\u001b[39m BancoDados(\u001b[38;5;124m'\u001b[39m\u001b[38;5;124mpostgres\u001b[39m\u001b[38;5;124m'\u001b[39m, \u001b[38;5;124m'\u001b[39m\u001b[38;5;124mpostgres\u001b[39m\u001b[38;5;124m'\u001b[39m, \u001b[38;5;124m'\u001b[39m\u001b[38;5;124m123456\u001b[39m\u001b[38;5;124m'\u001b[39m, \u001b[38;5;124m'\u001b[39m\u001b[38;5;124mlocalhost\u001b[39m\u001b[38;5;124m'\u001b[39m, \u001b[38;5;124m'\u001b[39m\u001b[38;5;124m5432\u001b[39m\u001b[38;5;124m'\u001b[39m)\n\u001b[1;32m----> 2\u001b[0m \u001b[43mtesteDB\u001b[49m\u001b[38;5;241;43m.\u001b[39;49m\u001b[43mcriacao_tabelas\u001b[49m\u001b[43m(\u001b[49m\u001b[43m)\u001b[49m\n",
      "File \u001b[1;32mc:\\Users\\luanv\\Documents\\Repositorios\\Analise_Suicidios_Brasil\\Classes\\BancoDados.py:106\u001b[0m, in \u001b[0;36mBancoDados.criacao_tabelas\u001b[1;34m(self)\u001b[0m\n\u001b[0;32m    103\u001b[0m tableList \u001b[38;5;241m=\u001b[39m [tablePeriodo, tableGenero, tableRegiao, tableRel_GeneroPeriodo, tableRel_RegiaoPeriodo]\n\u001b[0;32m    105\u001b[0m \u001b[38;5;28;01mfor\u001b[39;00m table \u001b[38;5;129;01min\u001b[39;00m tableList:\n\u001b[1;32m--> 106\u001b[0m     \u001b[43mcursor\u001b[49m\u001b[38;5;241;43m.\u001b[39;49m\u001b[43mexecute\u001b[49m\u001b[43m(\u001b[49m\u001b[43mtable\u001b[49m\u001b[43m)\u001b[49m\n\u001b[0;32m    107\u001b[0m \u001b[38;5;28mself\u001b[39m\u001b[38;5;241m.\u001b[39mdb_connect\u001b[38;5;241m.\u001b[39mcommit()\n\u001b[0;32m    108\u001b[0m \u001b[38;5;28mprint\u001b[39m(\u001b[38;5;124m\"\u001b[39m\u001b[38;5;124mTabelas criadas com sucesso!\u001b[39m\u001b[38;5;124m\"\u001b[39m)\n",
      "\u001b[1;31mDuplicateObject\u001b[0m: ERRO:  gatilho \"genero_descricao_trigger\" para relação \"genero\" já existe\n"
     ]
    }
   ],
   "source": [
    "testeDB = BancoDados('postgres', 'postgres', '123456', 'localhost', '5432')\n",
    "testeDB.criacao_tabelas()"
   ]
  }
 ],
 "metadata": {
  "kernelspec": {
   "display_name": "Python 3",
   "language": "python",
   "name": "python3"
  },
  "language_info": {
   "codemirror_mode": {
    "name": "ipython",
    "version": 3
   },
   "file_extension": ".py",
   "mimetype": "text/x-python",
   "name": "python",
   "nbconvert_exporter": "python",
   "pygments_lexer": "ipython3",
   "version": "3.13.0"
  }
 },
 "nbformat": 4,
 "nbformat_minor": 2
}
