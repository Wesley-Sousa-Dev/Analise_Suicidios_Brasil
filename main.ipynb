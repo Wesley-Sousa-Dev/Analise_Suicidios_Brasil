{
 "cells": [
  {
   "cell_type": "code",
   "execution_count": 2,
   "metadata": {},
   "outputs": [
    {
     "name": "stdout",
     "output_type": "stream",
     "text": [
      "Erro ao inspecionar o arquivo: O arquivo não é um CSV!\n"
     ]
    }
   ],
   "source": [
    "from classes.ArquivoInspecao import ArquivoInspecao\n",
    "\n",
    "try:\n",
    "    arquivo = ArquivoInspecao(\"README.md\")\n",
    "    if arquivo.verifica:\n",
    "        print(\"Arquivo CSV inspecionado com sucesso\")\n",
    "    else:\n",
    "        print(\"O arquivo possui dados ausentes ou não possui dados\")\n",
    "except Exception as e:\n",
    "    print(f\"Erro ao inspecionar o arquivo: {e}\")"
   ]
  }
 ],
 "metadata": {
  "kernelspec": {
   "display_name": "Python 3",
   "language": "python",
   "name": "python3"
  },
  "language_info": {
   "codemirror_mode": {
    "name": "ipython",
    "version": 3
   },
   "file_extension": ".py",
   "mimetype": "text/x-python",
   "name": "python",
   "nbconvert_exporter": "python",
   "pygments_lexer": "ipython3",
   "version": "3.13.0"
  }
 },
 "nbformat": 4,
 "nbformat_minor": 2
}
