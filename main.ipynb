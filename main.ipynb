{
 "cells": [
  {
   "cell_type": "code",
   "execution_count": null,
   "metadata": {},
   "outputs": [],
   "source": [
    "#Imports das classes criadas\n",
    "from Classes.Arquivo import Arquivo\n",
    "from Classes.BancoDados import BancoDados"
   ]
  },
  {
   "cell_type": "code",
   "execution_count": null,
   "metadata": {},
   "outputs": [
    {
     "name": "stdout",
     "output_type": "stream",
     "text": [
      "Arquivos CSV inspecionados com sucesso!\n"
     ]
    }
   ],
   "source": [
    "#Carregando todos os CSVs e os inspecionando\n",
    "try:\n",
    "    #Criação dos dataframes\n",
    "    s_total = Arquivo(\"Arquivos CSV/suicidios-total.csv\")\n",
    "    homens_arma = Arquivo(\"Arquivos CSV/suicidios-homens-armas-fogo.csv\")\n",
    "    mulheres_arma = Arquivo(\"Arquivos CSV/suicidios-mulheres-armas-fogo.csv\")\n",
    "    s_homens = Arquivo(\"Arquivos CSV/suicidios-homens.csv\")\n",
    "    s_mulheres = Arquivo(\"Arquivos CSV/suicidios-mulheres.csv\")\n",
    "    s_regiao = Arquivo(\"Arquivos CSV/suicidios-região.csv\")\n",
    "\n",
    "    #Inspeção\n",
    "    if s_total.verifica and homens_arma.verifica and mulheres_arma.verifica and s_homens.verifica and s_mulheres.verifica and s_regiao.verifica:\n",
    "        print(\"Arquivos CSV inspecionados com sucesso!\")\n",
    "    else:\n",
    "        print(f\"\"\"\n",
    "Status de verificação de cada arquivo:\n",
    "suicidios-total.csv = {s_total.verifica}\n",
    "suicidios-homens-armas-fogo.csv = {homens_arma.verifica}\n",
    "suicidios-mulheres-armas-fogo.csv = {mulheres_arma.verifica}\n",
    "suicidios-homens.csv = {s_homens.verifica}\n",
    "suicidios-mulheres.csv = {s_mulheres.verifica}\n",
    "suicidios-região.csv = {s_regiao.verifica}\n",
    "        \"\"\")\n",
    "except Exception as e:\n",
    "    print(f\"Erro ao inspecionar o arquivo: {e}\")"
   ]
  },
  {
   "cell_type": "code",
   "execution_count": null,
   "metadata": {},
   "outputs": [
    {
     "name": "stdout",
     "output_type": "stream",
     "text": [
      "Conexão bem-sucedida!\n",
      "['__class__', '__delattr__', '__dict__', '__dir__', '__doc__', '__eq__', '__format__', '__ge__', '__getattribute__', '__getstate__', '__gt__', '__hash__', '__init__', '__init_subclass__', '__le__', '__lt__', '__module__', '__ne__', '__new__', '__reduce__', '__reduce_ex__', '__repr__', '__setattr__', '__sizeof__', '__str__', '__subclasshook__', '__weakref__', 'buscar_dados', 'criacao_tabelas', 'db_connect', 'encerrar', 'inserir_dados_fogo', 'inserir_gen', 'inserir_reg', 'inserir_total']\n"
     ]
    }
   ],
   "source": [
    "#Abrindo conexão com banco local\n",
    "BancoLocal = BancoDados('PPCD_LAW', 'postgres', '123456', 'localhost', '5432')\n",
    "print(dir(BancoLocal)) #Retorna quais propriedades e métodos BancoLocal tem"
   ]
  },
  {
   "cell_type": "code",
   "execution_count": null,
   "metadata": {},
   "outputs": [],
   "source": [
    "#Criando tabelas no banco local (localhost) PostgresSQL\n",
    "#BancoLocal.criacao_tabelas()"
   ]
  },
  {
   "cell_type": "code",
   "execution_count": null,
   "metadata": {},
   "outputs": [],
   "source": [
    "#Instanciando DataFrames para usar na inserção dos dados\n",
    "colunasPeriodo = BancoLocal.buscar_dados('periodo')[['per_cod', 'ano']]\n",
    "colunasRegiao = BancoLocal.buscar_dados('regiao')[['reg_cod', 'nome']]\n",
    "regiaoDf = s_regiao.dataframe[['nome', 'período', 'valor']]\n",
    "mulherFogoDf = mulheres_arma.dataframe[['período', 'valor']]\n",
    "homemFogoDf = homens_arma.dataframe[['período', 'valor']]"
   ]
  },
  {
   "cell_type": "code",
   "execution_count": null,
   "metadata": {},
   "outputs": [
    {
     "data": {
      "text/plain": [
       "'Dados inseridos com sucesso!'"
      ]
     },
     "execution_count": 6,
     "metadata": {},
     "output_type": "execute_result"
    }
   ],
   "source": [
    "#Realizando inserção dos dados no banco de dados local\n",
    "#Table periodo:\n",
    "#BancoLocal.inserir_total(s_total.dataframe)\n",
    "\n",
    "#Table gen_periodo:\n",
    "#BancoLocal.inserir_gen(s_homens.dataframe, s_mulheres.dataframe, colunasPeriodo)\n",
    "\n",
    "#Table reg_periodo:\n",
    "#BancoLocal.inserir_reg(colunasRegiao, regiaoDf,  colunasPeriodo)\n",
    "\n",
    "#Table arma_fogo:\n",
    "#BancoLocal.inserir_dados_fogo(mulherFogoDf, homemFogoDf, colunasPeriodo)"
   ]
  },
  {
   "cell_type": "markdown",
   "metadata": {},
   "source": [
    "Ideia (meio besta talvez?): Para evitar precisar ficar comentando e descomentando cada subcódigo, que tal um breve menu feito com match case (ou ifs) e input para selecionar, por exemplo, qual inserção quer realizar?"
   ]
  }
 ],
 "metadata": {
  "kernelspec": {
   "display_name": "Python 3",
   "language": "python",
   "name": "python3"
  },
  "language_info": {
   "codemirror_mode": {
    "name": "ipython",
    "version": 3
   },
   "file_extension": ".py",
   "mimetype": "text/x-python",
   "name": "python",
   "nbconvert_exporter": "python",
   "pygments_lexer": "ipython3",
   "version": "3.12.5"
  }
 },
 "nbformat": 4,
 "nbformat_minor": 2
}
