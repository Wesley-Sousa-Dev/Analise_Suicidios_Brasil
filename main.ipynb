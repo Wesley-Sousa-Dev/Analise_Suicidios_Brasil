{
 "cells": [
  {
   "cell_type": "code",
   "execution_count": 1,
   "metadata": {},
   "outputs": [],
   "source": [
    "from Classes.Arquivo import Arquivo\n",
    "from Classes.BancoDados import BancoDados"
   ]
  },
  {
   "cell_type": "code",
   "execution_count": 2,
   "metadata": {},
   "outputs": [
    {
     "name": "stdout",
     "output_type": "stream",
     "text": [
      "Arquivos CSV inspecionados com sucesso!\n"
     ]
    }
   ],
   "source": [
    "try:\n",
    "    #Criação dos dataframes\n",
    "    s_total = Arquivo(\"Arquivos CSV/suicidios-total.csv\")\n",
    "    homens_arma = Arquivo(\"Arquivos CSV/suicidios-homens-armas-fogo.csv\")\n",
    "    mulheres_arma = Arquivo(\"Arquivos CSV/suicidios-mulheres-armas-fogo.csv\")\n",
    "    s_homens = Arquivo(\"Arquivos CSV/suicidios-homens.csv\")\n",
    "    s_mulheres = Arquivo(\"Arquivos CSV/suicidios-mulheres.csv\")\n",
    "    s_regiao = Arquivo(\"Arquivos CSV/suicidios-região.csv\")\n",
    "\n",
    "    #Inspeção\n",
    "    if s_total.verifica and homens_arma.verifica and mulheres_arma.verifica and s_homens.verifica and s_mulheres.verifica and s_regiao.verifica:\n",
    "        print(\"Arquivos CSV inspecionados com sucesso!\")\n",
    "    else:\n",
    "        print(f\"\"\"\n",
    "Status de verificação de cada arquivo:\n",
    "suicidios-total.csv = {s_total.verifica}\n",
    "suicidios-homens-armas-fogo.csv = {homens_arma.verifica}\n",
    "suicidios-mulheres-armas-fogo.csv = {mulheres_arma.verifica}\n",
    "suicidios-homens.csv = {s_homens.verifica}\n",
    "suicidios-mulheres.csv = {s_mulheres.verifica}\n",
    "suicidios-região.csv = {s_regiao.verifica}\n",
    "        \"\"\")\n",
    "except Exception as e:\n",
    "    print(f\"Erro ao inspecionar o arquivo: {e}\")"
   ]
  },
  {
   "cell_type": "code",
   "execution_count": 3,
   "metadata": {},
   "outputs": [
    {
     "name": "stdout",
     "output_type": "stream",
     "text": [
      "Conexão bem-sucedida!\n",
      "['__class__', '__delattr__', '__dict__', '__dir__', '__doc__', '__eq__', '__format__', '__ge__', '__getattribute__', '__getstate__', '__gt__', '__hash__', '__init__', '__init_subclass__', '__le__', '__lt__', '__module__', '__ne__', '__new__', '__reduce__', '__reduce_ex__', '__repr__', '__setattr__', '__sizeof__', '__str__', '__subclasshook__', '__weakref__', 'buscar_dados', 'criacao_tabelas', 'db_connect', 'encerrar', 'inserir_total']\n"
     ]
    }
   ],
   "source": [
    "# \n",
    "BancoLocal = BancoDados('PPCD_LAW', 'postgres', '123456', 'localhost', '5432')\n",
    "print(dir(BancoLocal))"
   ]
  },
  {
   "cell_type": "code",
   "execution_count": 4,
   "metadata": {},
   "outputs": [
    {
     "ename": "DuplicateObject",
     "evalue": "ERRO:  gatilho \"genero_descricao_trigger\" para relação \"genero\" já existe\n",
     "output_type": "error",
     "traceback": [
      "\u001b[1;31m---------------------------------------------------------------------------\u001b[0m",
      "\u001b[1;31mDuplicateObject\u001b[0m                           Traceback (most recent call last)",
      "Cell \u001b[1;32mIn[4], line 1\u001b[0m\n\u001b[1;32m----> 1\u001b[0m \u001b[43mBancoLocal\u001b[49m\u001b[38;5;241;43m.\u001b[39;49m\u001b[43mcriacao_tabelas\u001b[49m\u001b[43m(\u001b[49m\u001b[43m)\u001b[49m\n",
      "File \u001b[1;32mc:\\Users\\luanv\\Documents\\Repositorios\\Analise_Suicidios_Brasil\\Classes\\BancoDados.py:122\u001b[0m, in \u001b[0;36mBancoDados.criacao_tabelas\u001b[1;34m(self)\u001b[0m\n\u001b[0;32m    119\u001b[0m tableList \u001b[38;5;241m=\u001b[39m [tablePeriodo, tableGenero, tableRegiao, tableRel_GeneroPeriodo, tableRel_RegiaoPeriodo]\n\u001b[0;32m    121\u001b[0m \u001b[38;5;28;01mfor\u001b[39;00m table \u001b[38;5;129;01min\u001b[39;00m tableList:\n\u001b[1;32m--> 122\u001b[0m     \u001b[43mcursor\u001b[49m\u001b[38;5;241;43m.\u001b[39;49m\u001b[43mexecute\u001b[49m\u001b[43m(\u001b[49m\u001b[43mtable\u001b[49m\u001b[43m)\u001b[49m\n\u001b[0;32m    125\u001b[0m \u001b[38;5;66;03m#REALIZANDO INSERÇÕES INICIAIS\u001b[39;00m\n\u001b[0;32m    126\u001b[0m insertGenero \u001b[38;5;241m=\u001b[39m \u001b[38;5;124m\"\"\"\u001b[39m\n\u001b[0;32m    127\u001b[0m \u001b[38;5;124m            INSERT INTO genero (tipo) \u001b[39m\n\u001b[0;32m    128\u001b[0m \u001b[38;5;124m            VALUES (\u001b[39m\u001b[38;5;124m'\u001b[39m\u001b[38;5;124mF\u001b[39m\u001b[38;5;124m'\u001b[39m\u001b[38;5;124m), (\u001b[39m\u001b[38;5;124m'\u001b[39m\u001b[38;5;124mM\u001b[39m\u001b[38;5;124m'\u001b[39m\u001b[38;5;124m)\u001b[39m\n\u001b[0;32m    129\u001b[0m \u001b[38;5;124m            ON CONFLICT DO NOTHING;\u001b[39m\n\u001b[0;32m    130\u001b[0m \u001b[38;5;124m            \u001b[39m\u001b[38;5;124m\"\"\"\u001b[39m\n",
      "\u001b[1;31mDuplicateObject\u001b[0m: ERRO:  gatilho \"genero_descricao_trigger\" para relação \"genero\" já existe\n"
     ]
    }
   ],
   "source": [
    "BancoLocal.criacao_tabelas()"
   ]
  },
  {
   "cell_type": "code",
   "execution_count": null,
   "metadata": {},
   "outputs": [
    {
     "data": {
      "text/plain": [
       "'Dados inseridos com sucesso!'"
      ]
     },
     "execution_count": 6,
     "metadata": {},
     "output_type": "execute_result"
    }
   ],
   "source": [
    "BancoLocal.inserir_total(s_total.dataframe)"
   ]
  },
  {
   "cell_type": "code",
   "execution_count": 5,
   "metadata": {},
   "outputs": [
    {
     "name": "stdout",
     "output_type": "stream",
     "text": [
      "    per_cod   ano  quantidade_total\n",
      "0         1  1989              4491\n",
      "1         2  1990              4845\n",
      "2         3  1991              5186\n",
      "3         4  1992              5268\n",
      "4         5  1993              5555\n",
      "5         6  1994              5932\n",
      "6         7  1995              6594\n",
      "7         8  1996              6743\n",
      "8         9  1997              6923\n",
      "9        10  1998              6989\n",
      "10       11  1999              6530\n",
      "11       12  2000              6780\n",
      "12       13  2001              7738\n",
      "13       14  2002              7726\n",
      "14       15  2003              7861\n",
      "15       16  2004              8017\n",
      "16       17  2005              8550\n",
      "17       18  2006              8639\n",
      "18       19  2007              8868\n",
      "19       20  2008              9328\n",
      "20       21  2009              9374\n",
      "21       22  2010              9448\n",
      "22       23  2011              9852\n",
      "23       24  2012             10321\n",
      "24       25  2013             10533\n",
      "25       26  2014             10653\n",
      "26       27  2015             11178\n",
      "27       28  2016             11433\n",
      "28       29  2017             12495\n",
      "29       30  2018             12733\n",
      "30       31  2019             13520\n",
      "31       32  2020             13835\n",
      "32       33  2021             15499\n",
      "33       34  2022             16462\n"
     ]
    }
   ],
   "source": [
    "print(BancoLocal.buscar_dados('periodo'))"
   ]
  }
 ],
 "metadata": {
  "kernelspec": {
   "display_name": "Python 3",
   "language": "python",
   "name": "python3"
  },
  "language_info": {
   "codemirror_mode": {
    "name": "ipython",
    "version": 3
   },
   "file_extension": ".py",
   "mimetype": "text/x-python",
   "name": "python",
   "nbconvert_exporter": "python",
   "pygments_lexer": "ipython3",
   "version": "3.12.5"
  }
 },
 "nbformat": 4,
 "nbformat_minor": 2
}
