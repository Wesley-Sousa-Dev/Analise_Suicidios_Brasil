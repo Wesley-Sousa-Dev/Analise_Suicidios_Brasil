{
 "cells": [
  {
   "cell_type": "code",
   "execution_count": 2,
   "metadata": {},
   "outputs": [],
   "source": [
    "from Classes.Arquivo import Arquivo\n",
    "from Classes.BancoDados import BancoDados\n",
    "from Classes.InsercaoDados import InsercaoDados"
   ]
  },
  {
   "cell_type": "code",
   "execution_count": 6,
   "metadata": {},
   "outputs": [
    {
     "name": "stdout",
     "output_type": "stream",
     "text": [
      "Arquivos CSV inspecionados com sucesso!\n"
     ]
    }
   ],
   "source": [
    "try:\n",
    "    #Criação dos dataframes\n",
    "    s_total = Arquivo(\"Arquivos CSV/suicidios-total.csv\")\n",
    "    homens_arma = Arquivo(\"Arquivos CSV/suicidios-homens-armas-fogo.csv\")\n",
    "    mulheres_arma = Arquivo(\"Arquivos CSV/suicidios-mulheres-armas-fogo.csv\")\n",
    "    s_homens = Arquivo(\"Arquivos CSV/suicidios-homens.csv\")\n",
    "    s_mulheres = Arquivo(\"Arquivos CSV/suicidios-mulheres.csv\")\n",
    "    s_regiao = Arquivo(\"Arquivos CSV/suicidios-região.csv\")\n",
    "\n",
    "    #Inspeção\n",
    "    if s_total.verifica and homens_arma.verifica and mulheres_arma.verifica and s_homens.verifica and s_mulheres.verifica and s_regiao.verifica:\n",
    "        print(\"Arquivos CSV inspecionados com sucesso!\")\n",
    "    else:\n",
    "        print(f\"\"\"\n",
    "Status de verificação de cada arquivo:\n",
    "suicidios-total.csv = {s_total.verifica}\n",
    "suicidios-homens-armas-fogo.csv = {homens_arma.verifica}\n",
    "suicidios-mulheres-armas-fogo.csv = {mulheres_arma.verifica}\n",
    "suicidios-homens.csv = {s_homens.verifica}\n",
    "suicidios-mulheres.csv = {s_mulheres.verifica}\n",
    "suicidios-região.csv = {s_regiao.verifica}\n",
    "        \"\"\")\n",
    "except Exception as e:\n",
    "    print(f\"Erro ao inspecionar o arquivo: {e}\")"
   ]
  },
  {
   "cell_type": "code",
   "execution_count": 4,
   "metadata": {},
   "outputs": [
    {
     "name": "stdout",
     "output_type": "stream",
     "text": [
      "Conexão bem-sucedida!\n",
      "['__class__', '__delattr__', '__dict__', '__dir__', '__doc__', '__eq__', '__format__', '__ge__', '__getattribute__', '__getstate__', '__gt__', '__hash__', '__init__', '__init_subclass__', '__le__', '__lt__', '__module__', '__ne__', '__new__', '__reduce__', '__reduce_ex__', '__repr__', '__setattr__', '__sizeof__', '__str__', '__subclasshook__', '__weakref__', 'criacao_tabelas', 'db_connect']\n"
     ]
    }
   ],
   "source": [
    "# \n",
    "BancoLocal = BancoDados('PPCD_LAW', 'postgres', '123456', 'localhost', '5432')\n",
    "print(dir(BancoLocal))"
   ]
  },
  {
   "cell_type": "code",
   "execution_count": null,
   "metadata": {},
   "outputs": [],
   "source": [
    "BancoLocal.criacao_tabelas()"
   ]
  },
  {
   "cell_type": "code",
   "execution_count": 11,
   "metadata": {},
   "outputs": [
    {
     "data": {
      "text/plain": [
       "\"Erro ao inserir os dados: 'NoneType' object has no attribute 'cursor'\""
      ]
     },
     "execution_count": 11,
     "metadata": {},
     "output_type": "execute_result"
    }
   ],
   "source": [
    "InsercaoDados().inserir_total(BancoLocal, s_total.dataframe)"
   ]
  }
 ],
 "metadata": {
  "kernelspec": {
   "display_name": "base",
   "language": "python",
   "name": "python3"
  },
  "language_info": {
   "codemirror_mode": {
    "name": "ipython",
    "version": 3
   },
   "file_extension": ".py",
   "mimetype": "text/x-python",
   "name": "python",
   "nbconvert_exporter": "python",
   "pygments_lexer": "ipython3",
   "version": "3.12.4"
  }
 },
 "nbformat": 4,
 "nbformat_minor": 2
}
