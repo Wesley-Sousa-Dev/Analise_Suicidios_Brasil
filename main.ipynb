{
 "cells": [
  {
   "cell_type": "code",
   "execution_count": 1,
   "metadata": {},
   "outputs": [],
   "source": [
    "from Classes.Arquivo import Arquivo\n",
    "from Classes.BancoDados import BancoDados"
   ]
  },
  {
   "cell_type": "code",
   "execution_count": 2,
   "metadata": {},
   "outputs": [
    {
     "name": "stdout",
     "output_type": "stream",
     "text": [
      "Arquivos CSV inspecionados com sucesso!\n"
     ]
    }
   ],
   "source": [
    "try:\n",
    "    #Criação dos dataframes\n",
    "    s_total = Arquivo(\"Arquivos CSV/suicidios-total.csv\")\n",
    "    homens_arma = Arquivo(\"Arquivos CSV/suicidios-homens-armas-fogo.csv\")\n",
    "    mulheres_arma = Arquivo(\"Arquivos CSV/suicidios-mulheres-armas-fogo.csv\")\n",
    "    s_homens = Arquivo(\"Arquivos CSV/suicidios-homens.csv\")\n",
    "    s_mulheres = Arquivo(\"Arquivos CSV/suicidios-mulheres.csv\")\n",
    "    s_regiao = Arquivo(\"Arquivos CSV/suicidios-região.csv\")\n",
    "\n",
    "    #Inspeção\n",
    "    if s_total.verifica and homens_arma.verifica and mulheres_arma.verifica and s_homens.verifica and s_mulheres.verifica and s_regiao.verifica:\n",
    "        print(\"Arquivos CSV inspecionados com sucesso!\")\n",
    "    else:\n",
    "        print(f\"\"\"\n",
    "Status de verificação de cada arquivo:\n",
    "suicidios-total.csv = {s_total.verifica}\n",
    "suicidios-homens-armas-fogo.csv = {homens_arma.verifica}\n",
    "suicidios-mulheres-armas-fogo.csv = {mulheres_arma.verifica}\n",
    "suicidios-homens.csv = {s_homens.verifica}\n",
    "suicidios-mulheres.csv = {s_mulheres.verifica}\n",
    "suicidios-região.csv = {s_regiao.verifica}\n",
    "        \"\"\")\n",
    "except Exception as e:\n",
    "    print(f\"Erro ao inspecionar o arquivo: {e}\")"
   ]
  },
  {
   "cell_type": "code",
   "execution_count": 3,
   "metadata": {},
   "outputs": [
    {
     "name": "stdout",
     "output_type": "stream",
     "text": [
      "Conexão bem-sucedida!\n",
      "['__class__', '__delattr__', '__dict__', '__dir__', '__doc__', '__eq__', '__format__', '__ge__', '__getattribute__', '__getstate__', '__gt__', '__hash__', '__init__', '__init_subclass__', '__le__', '__lt__', '__module__', '__ne__', '__new__', '__reduce__', '__reduce_ex__', '__repr__', '__setattr__', '__sizeof__', '__str__', '__subclasshook__', '__weakref__', 'buscar_dados', 'criacao_tabelas', 'db_connect', 'encerrar', 'inserir_gen', 'inserir_total']\n"
     ]
    }
   ],
   "source": [
    "# \n",
    "BancoLocal = BancoDados('PPCD_LAW', 'postgres', '123456', 'localhost', '5432')\n",
    "print(dir(BancoLocal))"
   ]
  },
  {
   "cell_type": "code",
   "execution_count": 4,
   "metadata": {},
   "outputs": [],
   "source": [
    "#BancoLocal.criacao_tabelas()"
   ]
  },
  {
   "cell_type": "code",
   "execution_count": 5,
   "metadata": {},
   "outputs": [],
   "source": [
    "#BancoLocal.inserir_total(s_total.dataframe)"
   ]
  },
  {
   "cell_type": "code",
   "execution_count": 6,
   "metadata": {},
   "outputs": [
    {
     "name": "stdout",
     "output_type": "stream",
     "text": [
      "Dados DF mulher pós merge: \n",
      "     cod nome   ano  quantidade  per_cod  gen_cod\n",
      "0   1076  BRA  1989        1073        1        1\n",
      "1   1076  BRA  1990        1225        2        1\n",
      "2   1076  BRA  1991        1202        3        1\n",
      "3   1076  BRA  1992        1180        4        1\n",
      "4   1076  BRA  1993        1193        5        1\n",
      "5   1076  BRA  1994        1299        6        1\n",
      "6   1076  BRA  1995        1410        7        1\n",
      "7   1076  BRA  1996        1407        8        1\n",
      "8   1076  BRA  1997        1423        9        1\n",
      "9   1076  BRA  1998        1457       10        1\n",
      "10  1076  BRA  1999        1230       11        1\n",
      "11  1076  BRA  2000        1382       12        1\n",
      "12  1076  BRA  2001        1560       13        1\n",
      "13  1076  BRA  2002        1694       14        1\n",
      "14  1076  BRA  2003        1604       15        1\n",
      "15  1076  BRA  2004        1706       16        1\n",
      "16  1076  BRA  2005        1805       17        1\n",
      "17  1076  BRA  2006        1805       18        1\n",
      "18  1076  BRA  2007        1872       19        1\n",
      "19  1076  BRA  2008        1953       20        1\n",
      "20  1076  BRA  2009        1872       21        1\n",
      "21  1076  BRA  2010        2073       22        1\n",
      "22  1076  BRA  2011        2089       23        1\n",
      "23  1076  BRA  2012        2257       24        1\n",
      "24  1076  BRA  2013        2223       25        1\n",
      "25  1076  BRA  2014        2233       26        1\n",
      "26  1076  BRA  2015        2396       27        1\n",
      "27  1076  BRA  2016        2378       28        1\n",
      "28  1076  BRA  2017        2664       29        1\n",
      "29  1076  BRA  2018        2729       30        1\n",
      "30  1076  BRA  2019        2919       31        1\n",
      "31  1076  BRA  2020        2964       32        1\n",
      "32  1076  BRA  2021        6862       33        1\n",
      "33  1076  BRA  2022        3553       34        1 \n",
      "\n",
      "Dados DF homem pós merge: \n",
      "     cod nome   ano  quantidade  per_cod  gen_cod\n",
      "0   1076  BRA  1989        3417        1        2\n",
      "1   1076  BRA  1990        3618        2        2\n",
      "2   1076  BRA  1991        3980        3        2\n",
      "3   1076  BRA  1992        4081        4        2\n",
      "4   1076  BRA  1993        4354        5        2\n",
      "5   1076  BRA  1994        4632        6        2\n",
      "6   1076  BRA  1995        5174        7        2\n",
      "7   1076  BRA  1996        5332        8        2\n",
      "8   1076  BRA  1997        5496        9        2\n",
      "9   1076  BRA  1998        5525       10        2\n",
      "10  1076  BRA  1999        5300       11        2\n",
      "11  1076  BRA  2000        5398       12        2\n",
      "12  1076  BRA  2001        6177       13        2\n",
      "13  1076  BRA  2002        6028       14        2\n",
      "14  1076  BRA  2003        6256       15        2\n",
      "15  1076  BRA  2004        6311       16        2\n",
      "16  1076  BRA  2005        6744       17        2\n",
      "17  1076  BRA  2006        6834       18        2\n",
      "18  1076  BRA  2007        6995       19        2\n",
      "19  1076  BRA  2008        7375       20        2\n",
      "20  1076  BRA  2009        7500       21        2\n",
      "21  1076  BRA  2010        7375       22        2\n",
      "22  1076  BRA  2011        7762       23        2\n",
      "23  1076  BRA  2012        8061       24        2\n",
      "24  1076  BRA  2013        8309       25        2\n",
      "25  1076  BRA  2014        8419       26        2\n",
      "26  1076  BRA  2015        8780       27        2\n",
      "27  1076  BRA  2016        9053       28        2\n",
      "28  1076  BRA  2017        9826       29        2\n",
      "29  1076  BRA  2018        9999       30        2\n",
      "30  1076  BRA  2019       10599       31        2\n",
      "31  1076  BRA  2020       10868       32        2\n",
      "32  1076  BRA  2021       12064       33        2\n",
      "33  1076  BRA  2022       12908       34        2\n",
      "\n",
      "\n",
      "Dataframe concatenado: \n",
      "     cod nome   ano  quantidade  per_cod  gen_cod\n",
      "0   1076  BRA  1989        1073        1        1\n",
      "1   1076  BRA  1990        1225        2        1\n",
      "2   1076  BRA  1991        1202        3        1\n",
      "3   1076  BRA  1992        1180        4        1\n",
      "4   1076  BRA  1993        1193        5        1\n",
      "..   ...  ...   ...         ...      ...      ...\n",
      "29  1076  BRA  2018        9999       30        2\n",
      "30  1076  BRA  2019       10599       31        2\n",
      "31  1076  BRA  2020       10868       32        2\n",
      "32  1076  BRA  2021       12064       33        2\n",
      "33  1076  BRA  2022       12908       34        2\n",
      "\n",
      "[68 rows x 6 columns]\n"
     ]
    },
    {
     "data": {
      "text/plain": [
       "'Dados inseridos com sucesso!'"
      ]
     },
     "execution_count": 6,
     "metadata": {},
     "output_type": "execute_result"
    }
   ],
   "source": [
    "colunasPeriodo = BancoLocal.buscar_dados('periodo')[['per_cod', 'ano']]\n",
    "\n",
    "#1 Feminino\n",
    "#2 Masculino\n",
    "colunasGenero = BancoLocal.buscar_dados('genero')['gen_cod']\n",
    "\n",
    "\n",
    "colunasRegiao = BancoLocal.buscar_dados('regiao')[['reg_cod', 'nome']]\n",
    "\n",
    "BancoLocal.inserir_gen(s_homens.dataframe, s_mulheres.dataframe, colunasGenero, colunasPeriodo)"
   ]
  }
 ],
 "metadata": {
  "kernelspec": {
   "display_name": "Python 3",
   "language": "python",
   "name": "python3"
  },
  "language_info": {
   "codemirror_mode": {
    "name": "ipython",
    "version": 3
   },
   "file_extension": ".py",
   "mimetype": "text/x-python",
   "name": "python",
   "nbconvert_exporter": "python",
   "pygments_lexer": "ipython3",
   "version": "3.12.5"
  }
 },
 "nbformat": 4,
 "nbformat_minor": 2
}
